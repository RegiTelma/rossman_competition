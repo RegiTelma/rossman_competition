{
 "cells": [
  {
   "cell_type": "markdown",
   "metadata": {},
   "source": [
    "# Imports"
   ]
  },
  {
   "cell_type": "code",
   "execution_count": 3,
   "metadata": {},
   "outputs": [],
   "source": [
    "import pandas as pd\n",
    "import numpy as np"
   ]
  },
  {
   "cell_type": "code",
   "execution_count": 4,
   "metadata": {},
   "outputs": [],
   "source": [
    "import warnings\n",
    "warnings.filterwarnings('ignore')"
   ]
  },
  {
   "cell_type": "markdown",
   "metadata": {},
   "source": [
    "# Cleaning"
   ]
  },
  {
   "cell_type": "code",
   "execution_count": 5,
   "metadata": {},
   "outputs": [],
   "source": [
    "# load the data\n",
    "train = pd.read_csv('data/train.csv')\n",
    "store = pd.read_csv('data/store.csv')"
   ]
  },
  {
   "cell_type": "code",
   "execution_count": 52,
   "metadata": {},
   "outputs": [
    {
     "data": {
      "text/plain": [
       "array([0, 1])"
      ]
     },
     "execution_count": 52,
     "metadata": {},
     "output_type": "execute_result"
    }
   ],
   "source": []
  },
  {
   "cell_type": "code",
   "execution_count": 21,
   "metadata": {},
   "outputs": [
    {
     "data": {
      "text/plain": [
       "Date             0.000000\n",
       "Store            0.030263\n",
       "DayOfWeek        0.029818\n",
       "Sales            0.029833\n",
       "Customers        0.029934\n",
       "Open             0.030083\n",
       "Promo            0.030095\n",
       "StateHoliday     0.030189\n",
       "SchoolHoliday    0.030320\n",
       "dtype: float64"
      ]
     },
     "execution_count": 21,
     "metadata": {},
     "output_type": "execute_result"
    }
   ],
   "source": [
    "# different statistics about the data\n",
    "# train.info()\n",
    "\n",
    "# check nulls (difference between NaN and 0)\n",
    "train.isnull().sum()\n",
    "(train.isnull() & train.ne(0)).sum()\n",
    "\n",
    "# see rows with NaN\n",
    "train[train['Store'].isnull()]\n",
    "\n",
    "# have look at the duplicates - they look crappy we drop them\n",
    "train[train.duplicated()].head(6)\n",
    "\n",
    "# check for question marks which are sometimes placeholder for NaN\n",
    "train.select_dtypes(exclude=np.number).apply( lambda x: x.str.contains(\"\\?\", regex=True) ).any()\n",
    "\n",
    "# what values are in StateHoliday\n",
    "train.StateHoliday.unique()\n",
    "\n",
    "\n",
    "\n",
    "train.describe().T \n",
    "train.isnull().sum()/len(train)"
   ]
  },
  {
   "cell_type": "markdown",
   "metadata": {},
   "source": [
    "# clean and join tables"
   ]
  },
  {
   "cell_type": "code",
   "execution_count": 6,
   "metadata": {},
   "outputs": [
    {
     "data": {
      "text/plain": [
       "Index(['Date', 'Store', 'DayOfWeek', 'Sales', 'Customers', 'Open', 'Promo',\n",
       "       'StateHoliday', 'SchoolHoliday'],\n",
       "      dtype='object')"
      ]
     },
     "execution_count": 6,
     "metadata": {},
     "output_type": "execute_result"
    }
   ],
   "source": [
    "train.columns"
   ]
  },
  {
   "cell_type": "markdown",
   "metadata": {},
   "source": [
    "# cleaner function"
   ]
  },
  {
   "cell_type": "code",
   "execution_count": 33,
   "metadata": {},
   "outputs": [],
   "source": [
    "import datetime\n",
    "\n",
    "def clean_merge(df, store):\n",
    "    df_ = df.copy()\n",
    "\n",
    "    df_= df_.drop_duplicates().dropna()\n",
    "\n",
    "    # convert string Date to datetime\n",
    "    df_['Date'] = pd.to_datetime(df_.Date, format='%Y-%m-%d')\n",
    "\n",
    "    # change normal days to 1 and holidays to 0\n",
    "    df_['StateHoliday'] = df_.StateHoliday.apply(lambda x: 1 if x in ['0', 0.0] else 0)\n",
    "    \n",
    "    # join cleaned train and store data \n",
    "    df_ = pd.merge(df_, store, how='outer', on='Store')\n",
    "\n",
    "    # label encode promo Intervals\n",
    "    d = {'Mar,Jun,Sept,Dec': 1, 'Feb,May,Aug,Nov':2, 'Jan,Apr,Jul,Oct':3, np.nan: 0}\n",
    "    df_['PromoInterval'] = df_['PromoInterval'].map(d)\n",
    "\n",
    "    return df_"
   ]
  },
  {
   "cell_type": "code",
   "execution_count": 34,
   "metadata": {},
   "outputs": [],
   "source": [
    "df_merge = clean_merge(train, store)\n"
   ]
  },
  {
   "cell_type": "code",
   "execution_count": 35,
   "metadata": {},
   "outputs": [
    {
     "data": {
      "text/plain": [
       "Date                         datetime64[ns]\n",
       "Store                               float64\n",
       "DayOfWeek                           float64\n",
       "Sales                               float64\n",
       "Customers                           float64\n",
       "Open                                float64\n",
       "Promo                               float64\n",
       "StateHoliday                          int64\n",
       "SchoolHoliday                       float64\n",
       "StoreType                            object\n",
       "Assortment                           object\n",
       "CompetitionDistance                 float64\n",
       "CompetitionOpenSinceMonth           float64\n",
       "CompetitionOpenSinceYear            float64\n",
       "Promo2                                int64\n",
       "Promo2SinceWeek                     float64\n",
       "Promo2SinceYear                     float64\n",
       "PromoInterval                        object\n",
       "dtype: object"
      ]
     },
     "execution_count": 35,
     "metadata": {},
     "output_type": "execute_result"
    }
   ],
   "source": [
    "# double-checking the new df\n",
    "# df_merge.StateHoliday.isnull().sum()\n",
    "# df_merge.StateHoliday.unique()\n",
    "\n",
    "\n",
    "\n",
    "# df_merge.SchoolHoliday.unique()\n",
    "# df_merge.StoreType.unique()\n",
    "# df_merge.Assortment.unique()\n",
    "# df_merge.CompetitionOpenSinceMonth.unique()\n",
    "# # df_merge.describe().T\n",
    "\n",
    "# df_merge.isnull().sum()/len(df_merge)\n",
    "df_merge.dtypes\n"
   ]
  },
  {
   "cell_type": "code",
   "execution_count": null,
   "metadata": {},
   "outputs": [],
   "source": [
    "# convert types"
   ]
  },
  {
   "cell_type": "code",
   "execution_count": 36,
   "metadata": {},
   "outputs": [
    {
     "data": {
      "text/plain": [
       "Date                         datetime64[ns]\n",
       "Store                                 int16\n",
       "DayOfWeek                              int8\n",
       "Sales                                 int32\n",
       "Customers                             int16\n",
       "Open                                   int8\n",
       "Promo                                  int8\n",
       "StateHoliday                           int8\n",
       "SchoolHoliday                          int8\n",
       "StoreType                            object\n",
       "Assortment                           object\n",
       "CompetitionDistance                 float64\n",
       "CompetitionOpenSinceMonth           float64\n",
       "CompetitionOpenSinceYear            float64\n",
       "Promo2                                 int8\n",
       "Promo2SinceWeek                     float64\n",
       "Promo2SinceYear                     float64\n",
       "PromoInterval                        object\n",
       "dtype: object"
      ]
     },
     "execution_count": 36,
     "metadata": {},
     "output_type": "execute_result"
    }
   ],
   "source": [
    "def types_and_imputer(df):\n",
    "    for col in df.columns:\n",
    "        if pd.api.types.is_numeric_dtype(df[col]):\n",
    "            df[col] = pd.to_numeric(df[col], downcast='integer')\n",
    "\n",
    "    # median imputing and converting to int (nobody cares for half a meter to the Competition)\n",
    "    median_distance = df.CompetitionDistance.median()\n",
    "    competiton_distance = df.CompetitionDistance.fillna(median_distance).round()\n",
    "    df.CompetitionDistance = pd.to_numeric(competiton_distance, downcast='integer')\n",
    "    return df\n",
    "\n",
    "df_types = types_and_imputer(df_merge)\n",
    "df_types.dtypes"
   ]
  },
  {
   "cell_type": "code",
   "execution_count": null,
   "metadata": {},
   "outputs": [],
   "source": [
    "def types_and_imputer(df):\n",
    "\n",
    "    \n",
    "\n",
    "\n",
    "    df.CompetitionOpenSinceMonth = df.CompetitionOpenSinceMonth.fillna(0).round().astype('int')\n",
    "    df.CompetitionOpenSinceYear = df.CompetitionOpenSinceYear.fillna(0).round().astype('int')\n",
    "    df.Promo2SinceWeek = df.Promo2SinceWeek.fillna(0).round().astype('int')\n",
    "    df.Promo2SinceYear = df.Promo2SinceYear.fillna(0).round().astype('int')\n",
    "\n",
    "    return df"
   ]
  },
  {
   "cell_type": "code",
   "execution_count": 33,
   "metadata": {},
   "outputs": [
    {
     "data": {
      "text/plain": [
       "Date                         datetime64[ns]\n",
       "Store                                 Int64\n",
       "DayOfWeek                             Int64\n",
       "Sales                                 Int64\n",
       "Customers                             Int64\n",
       "Open                                  Int64\n",
       "Promo                                 Int64\n",
       "StateHoliday                         string\n",
       "SchoolHoliday                         Int64\n",
       "StoreType                            string\n",
       "Assortment                           string\n",
       "CompetitionDistance                   Int64\n",
       "CompetitionOpenSinceMonth             Int64\n",
       "CompetitionOpenSinceYear              Int64\n",
       "Promo2                                Int64\n",
       "Promo2SinceWeek                       Int64\n",
       "Promo2SinceYear                       Int64\n",
       "PromoInterval                        string\n",
       "dtype: object"
      ]
     },
     "execution_count": 33,
     "metadata": {},
     "output_type": "execute_result"
    }
   ],
   "source": [
    "df_merge.convert_dtypes()\n",
    "df_dtypes = df_merge.convert_dtypes()\n",
    "df_dtypes.dtypes"
   ]
  },
  {
   "cell_type": "markdown",
   "metadata": {},
   "source": [
    "# encoding, fillna, datatypes\n",
    "m, f, j, n"
   ]
  },
  {
   "cell_type": "code",
   "execution_count": 25,
   "metadata": {},
   "outputs": [
    {
     "name": "stdout",
     "output_type": "stream",
     "text": [
      "Mar,Jun,Sept,Dec: m\n",
      "Feb,May,Aug,Nov: f\n",
      "Jan,Apr,Jul,Oct: j\n",
      "nan: n\n"
     ]
    }
   ],
   "source": [
    "for k, v in  d.items():\n",
    "  print(f'{k}: {v}')"
   ]
  },
  {
   "cell_type": "code",
   "execution_count": 26,
   "metadata": {},
   "outputs": [
    {
     "data": {
      "text/plain": [
       "0"
      ]
     },
     "execution_count": 26,
     "metadata": {},
     "output_type": "execute_result"
    }
   ],
   "source": [
    "df_map.PromoInterval.isnull().sum()"
   ]
  },
  {
   "cell_type": "code",
   "execution_count": 27,
   "metadata": {},
   "outputs": [],
   "source": [
    "# downcasting numeric columns for better performance while plotting (hopefully)\n",
    "for col in df_map.columns:\n",
    "    if pd.api.types.is_numeric_dtype(df_map[col]):\n",
    "        df_map[col] = pd.to_numeric(df_map[col], downcast='integer')"
   ]
  },
  {
   "cell_type": "code",
   "execution_count": 28,
   "metadata": {},
   "outputs": [
    {
     "data": {
      "text/plain": [
       "Date                         datetime64[ns]\n",
       "Store                                 int16\n",
       "DayOfWeek                              int8\n",
       "Sales                                 int32\n",
       "Customers                             int16\n",
       "Open                                   int8\n",
       "Promo                                  int8\n",
       "StateHoliday                         object\n",
       "SchoolHoliday                          int8\n",
       "StoreType                            object\n",
       "Assortment                           object\n",
       "CompetitionDistance                   int32\n",
       "CompetitionOpenSinceMonth           float64\n",
       "CompetitionOpenSinceYear            float64\n",
       "Promo2                                 int8\n",
       "Promo2SinceWeek                     float64\n",
       "Promo2SinceYear                     float64\n",
       "PromoInterval                        object\n",
       "dtype: object"
      ]
     },
     "execution_count": 28,
     "metadata": {},
     "output_type": "execute_result"
    }
   ],
   "source": [
    "# finding the smallestes possible datatype, imputing and handling NA en passant\n",
    "\n",
    "# df_map2.DayOfWeek = df_map.DayOfWeek.astype('int8')\n",
    "\n",
    "# median imputing and converting to int (nobody cares for half a meter to the Competition)\n",
    "median_distance = df_map.CompetitionDistance.median()\n",
    "competiton_distance = df_map.CompetitionDistance.fillna(median_distance).round()\n",
    "df_map.CompetitionDistance = pd.to_numeric(competiton_distance, downcast='integer')\n",
    "df_map.dtypes"
   ]
  },
  {
   "cell_type": "code",
   "execution_count": 40,
   "metadata": {},
   "outputs": [
    {
     "data": {
      "text/plain": [
       "Date                         datetime64[ns]\n",
       "Store                                 int16\n",
       "DayOfWeek                              int8\n",
       "Sales                                 int32\n",
       "Customers                             int16\n",
       "Open                                   bool\n",
       "Promo                                  bool\n",
       "StateHoliday                         object\n",
       "SchoolHoliday                          bool\n",
       "StoreType                            object\n",
       "Assortment                           object\n",
       "CompetitionDistance                   int32\n",
       "CompetitionOpenSinceMonth             int64\n",
       "CompetitionOpenSinceYear              int64\n",
       "Promo2                                 bool\n",
       "Promo2SinceWeek                       int64\n",
       "Promo2SinceYear                       int64\n",
       "PromoInterval                        object\n",
       "dtype: object"
      ]
     },
     "execution_count": 40,
     "metadata": {},
     "output_type": "execute_result"
    }
   ],
   "source": [
    "df_map.Promo2.unique\n",
    "df_map2 = df_map.copy()\n",
    "\n",
    "df_map2.Open = df_map2.Open.astype(bool)\n",
    "df_map2.Promo = df_map2.Promo.astype(bool)\n",
    "df_map2.Promo2 = df_map2.Promo2.astype(bool)\n",
    "df_map2.SchoolHoliday = df_map2.SchoolHoliday.astype(bool)\n",
    "df_map2.CompetitionOpenSinceMonth = df_map2.CompetitionOpenSinceMonth.fillna(0).round().astype('int')\n",
    "df_map2.CompetitionOpenSinceYear = df_map2.CompetitionOpenSinceYear.fillna(0).round().astype('int')\n",
    "df_map2.Promo2SinceWeek = df_map2.Promo2SinceWeek.fillna(0).round().astype('int')\n",
    "df_map2.Promo2SinceYear = df_map2.Promo2SinceYear.fillna(0).round().astype('int')\n",
    "\n",
    "df_map2.dtypes"
   ]
  },
  {
   "cell_type": "code",
   "execution_count": 41,
   "metadata": {},
   "outputs": [
    {
     "data": {
      "text/html": [
       "<div>\n",
       "<style scoped>\n",
       "    .dataframe tbody tr th:only-of-type {\n",
       "        vertical-align: middle;\n",
       "    }\n",
       "\n",
       "    .dataframe tbody tr th {\n",
       "        vertical-align: top;\n",
       "    }\n",
       "\n",
       "    .dataframe thead th {\n",
       "        text-align: right;\n",
       "    }\n",
       "</style>\n",
       "<table border=\"1\" class=\"dataframe\">\n",
       "  <thead>\n",
       "    <tr style=\"text-align: right;\">\n",
       "      <th></th>\n",
       "      <th>count</th>\n",
       "      <th>mean</th>\n",
       "      <th>std</th>\n",
       "      <th>min</th>\n",
       "      <th>25%</th>\n",
       "      <th>50%</th>\n",
       "      <th>75%</th>\n",
       "      <th>max</th>\n",
       "    </tr>\n",
       "  </thead>\n",
       "  <tbody>\n",
       "    <tr>\n",
       "      <th>Store</th>\n",
       "      <td>499419.0</td>\n",
       "      <td>558.377344</td>\n",
       "      <td>321.781838</td>\n",
       "      <td>1.0</td>\n",
       "      <td>280.0</td>\n",
       "      <td>558.0</td>\n",
       "      <td>837.0</td>\n",
       "      <td>1115.0</td>\n",
       "    </tr>\n",
       "    <tr>\n",
       "      <th>DayOfWeek</th>\n",
       "      <td>499419.0</td>\n",
       "      <td>3.994309</td>\n",
       "      <td>1.998609</td>\n",
       "      <td>1.0</td>\n",
       "      <td>2.0</td>\n",
       "      <td>4.0</td>\n",
       "      <td>6.0</td>\n",
       "      <td>7.0</td>\n",
       "    </tr>\n",
       "    <tr>\n",
       "      <th>Sales</th>\n",
       "      <td>499419.0</td>\n",
       "      <td>5667.252594</td>\n",
       "      <td>3807.125268</td>\n",
       "      <td>0.0</td>\n",
       "      <td>3645.0</td>\n",
       "      <td>5628.0</td>\n",
       "      <td>7712.0</td>\n",
       "      <td>38037.0</td>\n",
       "    </tr>\n",
       "    <tr>\n",
       "      <th>Customers</th>\n",
       "      <td>499419.0</td>\n",
       "      <td>628.731622</td>\n",
       "      <td>463.445275</td>\n",
       "      <td>0.0</td>\n",
       "      <td>398.0</td>\n",
       "      <td>604.0</td>\n",
       "      <td>833.0</td>\n",
       "      <td>7388.0</td>\n",
       "    </tr>\n",
       "    <tr>\n",
       "      <th>CompetitionDistance</th>\n",
       "      <td>499419.0</td>\n",
       "      <td>5400.258520</td>\n",
       "      <td>7659.720481</td>\n",
       "      <td>20.0</td>\n",
       "      <td>720.0</td>\n",
       "      <td>2330.0</td>\n",
       "      <td>6880.0</td>\n",
       "      <td>75860.0</td>\n",
       "    </tr>\n",
       "    <tr>\n",
       "      <th>CompetitionOpenSinceMonth</th>\n",
       "      <td>499419.0</td>\n",
       "      <td>4.930719</td>\n",
       "      <td>4.283284</td>\n",
       "      <td>0.0</td>\n",
       "      <td>0.0</td>\n",
       "      <td>4.0</td>\n",
       "      <td>9.0</td>\n",
       "      <td>12.0</td>\n",
       "    </tr>\n",
       "    <tr>\n",
       "      <th>CompetitionOpenSinceYear</th>\n",
       "      <td>499419.0</td>\n",
       "      <td>1370.955530</td>\n",
       "      <td>935.047362</td>\n",
       "      <td>0.0</td>\n",
       "      <td>0.0</td>\n",
       "      <td>2006.0</td>\n",
       "      <td>2011.0</td>\n",
       "      <td>2015.0</td>\n",
       "    </tr>\n",
       "    <tr>\n",
       "      <th>Promo2SinceWeek</th>\n",
       "      <td>499419.0</td>\n",
       "      <td>11.954749</td>\n",
       "      <td>15.473651</td>\n",
       "      <td>0.0</td>\n",
       "      <td>0.0</td>\n",
       "      <td>1.0</td>\n",
       "      <td>22.0</td>\n",
       "      <td>50.0</td>\n",
       "    </tr>\n",
       "    <tr>\n",
       "      <th>Promo2SinceYear</th>\n",
       "      <td>499419.0</td>\n",
       "      <td>1023.360471</td>\n",
       "      <td>1005.729904</td>\n",
       "      <td>0.0</td>\n",
       "      <td>0.0</td>\n",
       "      <td>2009.0</td>\n",
       "      <td>2012.0</td>\n",
       "      <td>2015.0</td>\n",
       "    </tr>\n",
       "  </tbody>\n",
       "</table>\n",
       "</div>"
      ],
      "text/plain": [
       "                              count         mean          std   min     25%  \\\n",
       "Store                      499419.0   558.377344   321.781838   1.0   280.0   \n",
       "DayOfWeek                  499419.0     3.994309     1.998609   1.0     2.0   \n",
       "Sales                      499419.0  5667.252594  3807.125268   0.0  3645.0   \n",
       "Customers                  499419.0   628.731622   463.445275   0.0   398.0   \n",
       "CompetitionDistance        499419.0  5400.258520  7659.720481  20.0   720.0   \n",
       "CompetitionOpenSinceMonth  499419.0     4.930719     4.283284   0.0     0.0   \n",
       "CompetitionOpenSinceYear   499419.0  1370.955530   935.047362   0.0     0.0   \n",
       "Promo2SinceWeek            499419.0    11.954749    15.473651   0.0     0.0   \n",
       "Promo2SinceYear            499419.0  1023.360471  1005.729904   0.0     0.0   \n",
       "\n",
       "                              50%     75%      max  \n",
       "Store                       558.0   837.0   1115.0  \n",
       "DayOfWeek                     4.0     6.0      7.0  \n",
       "Sales                      5628.0  7712.0  38037.0  \n",
       "Customers                   604.0   833.0   7388.0  \n",
       "CompetitionDistance        2330.0  6880.0  75860.0  \n",
       "CompetitionOpenSinceMonth     4.0     9.0     12.0  \n",
       "CompetitionOpenSinceYear   2006.0  2011.0   2015.0  \n",
       "Promo2SinceWeek               1.0    22.0     50.0  \n",
       "Promo2SinceYear            2009.0  2012.0   2015.0  "
      ]
     },
     "execution_count": 41,
     "metadata": {},
     "output_type": "execute_result"
    }
   ],
   "source": [
    "df_map2.describe().T"
   ]
  },
  {
   "cell_type": "code",
   "execution_count": 42,
   "metadata": {},
   "outputs": [],
   "source": [
    "#write the cleaned data to disk\n",
    "df_map2.to_csv('./mdata/df_merged_optimized.csv',index=False)"
   ]
  },
  {
   "cell_type": "code",
   "execution_count": 31,
   "metadata": {},
   "outputs": [
    {
     "data": {
      "text/plain": [
       "Date                         0.000000\n",
       "Store                        0.000000\n",
       "DayOfWeek                    0.000000\n",
       "Sales                        0.000000\n",
       "Customers                    0.000000\n",
       "Open                         0.000000\n",
       "Promo                        0.000000\n",
       "StateHoliday                 0.000000\n",
       "SchoolHoliday                0.000000\n",
       "StoreType                    0.000000\n",
       "Assortment                   0.000000\n",
       "CompetitionDistance          0.002589\n",
       "CompetitionOpenSinceMonth    0.317483\n",
       "CompetitionOpenSinceYear     0.317483\n",
       "Promo2                       0.000000\n",
       "Promo2SinceWeek              0.491311\n",
       "Promo2SinceYear              0.491311\n",
       "PromoInterval                0.491311\n",
       "dtype: float64"
      ]
     },
     "execution_count": 31,
     "metadata": {},
     "output_type": "execute_result"
    }
   ],
   "source": [
    "df_map2[df_map2['Promo2SinceWeek'].isnull()]\n",
    "# df_map2.isnull().sum()/len(df_map2)\n",
    "df_merge.isnull().sum()/len(df_merge)"
   ]
  },
  {
   "cell_type": "code",
   "execution_count": 32,
   "metadata": {},
   "outputs": [
    {
     "data": {
      "text/plain": [
       "array(['d', 'a', 'c', 'b'], dtype=object)"
      ]
     },
     "execution_count": 32,
     "metadata": {},
     "output_type": "execute_result"
    }
   ],
   "source": [
    "df_merge.StoreType.unique()"
   ]
  }
 ],
 "metadata": {
  "kernelspec": {
   "display_name": "ml_2023",
   "language": "python",
   "name": "python3"
  },
  "language_info": {
   "codemirror_mode": {
    "name": "ipython",
    "version": 3
   },
   "file_extension": ".py",
   "mimetype": "text/x-python",
   "name": "python",
   "nbconvert_exporter": "python",
   "pygments_lexer": "ipython3",
   "version": "3.8.17"
  },
  "orig_nbformat": 4
 },
 "nbformat": 4,
 "nbformat_minor": 2
}
